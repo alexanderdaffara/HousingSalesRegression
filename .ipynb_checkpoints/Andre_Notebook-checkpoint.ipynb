{
 "cells": [
  {
   "cell_type": "code",
   "execution_count": null,
   "metadata": {},
   "outputs": [],
   "source": []
  }
 ],
 "metadata": {
  "kernelspec": {
   "display_name": "learn-env",
   "language": "python",
   "name": "python3"
  },
  "language_info": {
   "name": "python",
   "version": "3.8.16"
  },
  "vscode": {
   "interpreter": {
    "hash": "49ff11e8d09e9ba1fd82e9f7fb10bbe9aeff99c4c8ea30d8f7508506f4541df8"
   }
  }
 },
 "nbformat": 4,
 "nbformat_minor": 4
}
